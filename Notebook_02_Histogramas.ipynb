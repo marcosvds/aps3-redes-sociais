{
 "cells": [
  {
   "cell_type": "code",
   "execution_count": 1,
   "id": "87c16ec1-6f48-427a-aa95-a2d4ead3bfe2",
   "metadata": {
    "execution": {
     "iopub.execute_input": "2023-10-07T01:46:25.885335Z",
     "iopub.status.busy": "2023-10-07T01:46:25.785605Z",
     "iopub.status.idle": "2023-10-07T01:46:45.660004Z",
     "shell.execute_reply": "2023-10-07T01:46:45.656239Z",
     "shell.execute_reply.started": "2023-10-07T01:46:25.871732Z"
    }
   },
   "outputs": [
    {
     "data": {
      "text/html": [
       "\n",
       "    <script src=\"/static/.hidden/netpixi.min.js\"></script>\n"
      ],
      "text/plain": [
       "<IPython.core.display.HTML object>"
      ]
     },
     "metadata": {},
     "output_type": "display_data"
    }
   ],
   "source": [
    "import graph_tool_extras as gte\n",
    "import netpixi\n",
    "from graph_tool import draw"
   ]
  },
  {
   "cell_type": "code",
   "execution_count": null,
   "id": "7ab3695d-7d2d-4427-8f6a-d8b809147d14",
   "metadata": {
    "execution": {
     "iopub.execute_input": "2023-10-07T01:46:45.673400Z",
     "iopub.status.busy": "2023-10-07T01:46:45.672520Z"
    }
   },
   "outputs": [],
   "source": [
    "g = gte.load('big_five_agree.net.gz')"
   ]
  },
  {
   "cell_type": "code",
   "execution_count": null,
   "id": "dfebbfb5-51b1-40ba-b201-040635fbe978",
   "metadata": {},
   "outputs": [],
   "source": [
    "g.density()"
   ]
  },
  {
   "cell_type": "code",
   "execution_count": null,
   "id": "2a12822f-6632-4593-aa4b-8f25d2713366",
   "metadata": {},
   "outputs": [],
   "source": [
    "g.transitivity()"
   ]
  },
  {
   "cell_type": "code",
   "execution_count": null,
   "id": "922a8955-33df-43b1-bafd-0f2b65c96fc5",
   "metadata": {},
   "outputs": [],
   "source": [
    "g.num_edges()"
   ]
  },
  {
   "cell_type": "code",
   "execution_count": null,
   "id": "61f68e59-5522-4444-a6f5-cb547a65691e",
   "metadata": {},
   "outputs": [],
   "source": [
    "g.num_vertices()"
   ]
  },
  {
   "cell_type": "code",
   "execution_count": null,
   "id": "c32b2ff3-2e32-4e6e-8620-bf2e0facef68",
   "metadata": {
    "scrolled": true
   },
   "outputs": [],
   "source": [
    "degrees = g.get_total_degrees()\n",
    "degrees.hist(bins=20);"
   ]
  },
  {
   "cell_type": "code",
   "execution_count": null,
   "id": "6f871ef1-caea-4438-a144-462a04067924",
   "metadata": {},
   "outputs": [],
   "source": [
    "import matplotlib.pyplot as plt"
   ]
  },
  {
   "cell_type": "code",
   "execution_count": null,
   "id": "31fd33c7-334d-406a-b763-fc3b1c97200a",
   "metadata": {},
   "outputs": [],
   "source": [
    "plt.hist(degrees, bins=20)  # Crie o histograma\n",
    "plt.savefig('histograma.png', format='png')\n",
    "plt.show()"
   ]
  },
  {
   "cell_type": "code",
   "execution_count": null,
   "id": "4c2ed83d-37b2-40fc-9559-8fb30549d286",
   "metadata": {},
   "outputs": [],
   "source": [
    "degrees.describe()"
   ]
  },
  {
   "cell_type": "code",
   "execution_count": null,
   "id": "2a32e5c0-361a-4c87-babc-86e274a33f43",
   "metadata": {},
   "outputs": [],
   "source": [
    "import distribution as dst"
   ]
  },
  {
   "cell_type": "code",
   "execution_count": null,
   "id": "c3cb640d-95e0-4599-ad36-cab73e202a24",
   "metadata": {},
   "outputs": [],
   "source": [
    "resultado = dst.not_normal(degrees)\n",
    "resultado_formatado = round(resultado, 4)"
   ]
  },
  {
   "cell_type": "code",
   "execution_count": null,
   "id": "50218ca8-79c5-40b6-9cf6-25381386013d",
   "metadata": {},
   "outputs": [],
   "source": [
    "dst.more_powerlaw_than_lognormal(degrees)"
   ]
  },
  {
   "cell_type": "code",
   "execution_count": null,
   "id": "5d7fe18d-846a-420e-8ba8-15a706aa3a46",
   "metadata": {},
   "outputs": [],
   "source": [
    "dst.more_powerlaw_than_exponential(degrees)"
   ]
  },
  {
   "cell_type": "code",
   "execution_count": null,
   "id": "5063d315-c3de-458c-8370-b599ec55d52a",
   "metadata": {
    "scrolled": true
   },
   "outputs": [],
   "source": [
    "degrees.hist();"
   ]
  },
  {
   "cell_type": "code",
   "execution_count": null,
   "id": "255936a6-05ae-423d-a65b-fe399ae774d2",
   "metadata": {},
   "outputs": [],
   "source": [
    "import random\n",
    "from graph_tool import Graph, load_graph"
   ]
  },
  {
   "cell_type": "code",
   "execution_count": null,
   "id": "66ac4ef0-54bc-4b61-b24c-3028e09aae28",
   "metadata": {},
   "outputs": [],
   "source": [
    "num_vertices = 10873\n",
    "sample_size = 1087\n",
    "random_vertex_indices = random.sample(range(num_vertices), sample_size)"
   ]
  },
  {
   "cell_type": "code",
   "execution_count": null,
   "id": "38afbdfa-6511-4a0f-94c0-d3da2d44ca4f",
   "metadata": {},
   "outputs": [],
   "source": [
    "new_graph = Graph(directed=False)"
   ]
  },
  {
   "cell_type": "code",
   "execution_count": null,
   "id": "316fb78d-45c8-4d0a-bf6a-81a62a56fef0",
   "metadata": {},
   "outputs": [],
   "source": [
    "vertex_mapping = {}"
   ]
  },
  {
   "cell_type": "code",
   "execution_count": null,
   "id": "0ca6859e-0e90-445d-bd50-c179fda1fcb8",
   "metadata": {},
   "outputs": [],
   "source": [
    "for vertex_index in random_vertex_indices:\n",
    "    new_vertex = new_graph.add_vertex()\n",
    "    vertex_mapping[vertex_index] = new_vertex"
   ]
  },
  {
   "cell_type": "code",
   "execution_count": null,
   "id": "527ca5c2-0385-4d5b-8da6-33a299f2c14f",
   "metadata": {},
   "outputs": [],
   "source": [
    "max_index = g.num_vertices() - 1\n",
    "for source_vertex_index in random_vertex_indices:\n",
    "    if source_vertex_index > max_index:\n",
    "        continue\n",
    "    source_vertex = vertex_mapping[source_vertex_index]\n",
    "    for neighbor in g.vertex(source_vertex_index).all_neighbors():\n",
    "        target_vertex_index = int(neighbor)\n",
    "        \n",
    "        if target_vertex_index in random_vertex_indices:\n",
    "            new_target_vertex = vertex_mapping[target_vertex_index]\n",
    "            new_graph.add_edge(source_vertex, new_target_vertex)"
   ]
  },
  {
   "cell_type": "code",
   "execution_count": null,
   "id": "0838c992-6ef1-4c6e-992f-cee9c30ecab2",
   "metadata": {},
   "outputs": [],
   "source": [
    "new_graph.num_edges()"
   ]
  },
  {
   "cell_type": "code",
   "execution_count": null,
   "id": "08a45dc6-86d0-4556-a91a-1bfee00fda38",
   "metadata": {},
   "outputs": [],
   "source": [
    "new_graph.num_vertices()"
   ]
  },
  {
   "cell_type": "code",
   "execution_count": null,
   "id": "85481b31-023c-4dc2-a87a-a3ecfd1f894d",
   "metadata": {},
   "outputs": [],
   "source": [
    "source_vertex_index = 0"
   ]
  },
  {
   "cell_type": "code",
   "execution_count": null,
   "id": "3cc15a17-66c3-4a23-8153-85a9f4f92f7d",
   "metadata": {},
   "outputs": [],
   "source": [
    "new_graph.save('new_graph.gt')"
   ]
  },
  {
   "cell_type": "code",
   "execution_count": null,
   "id": "76e1fa54-85f5-49b3-921b-109ff7d0588e",
   "metadata": {},
   "outputs": [],
   "source": [
    "import numpy as np\n",
    "import matplotlib.pyplot as plt\n",
    "from graph_tool import Graph\n",
    "from graph_tool.topology import shortest_distance"
   ]
  },
  {
   "cell_type": "code",
   "execution_count": null,
   "id": "c175845c-c92f-46a3-9938-0017859bb1fd",
   "metadata": {},
   "outputs": [],
   "source": [
    "source_vertex = new_graph.vertex(0)"
   ]
  },
  {
   "cell_type": "code",
   "execution_count": null,
   "id": "f1aa31d4-0795-4e95-9983-bc32c615db1b",
   "metadata": {},
   "outputs": [],
   "source": [
    "distances = shortest_distance(g, source=source_vertex)"
   ]
  },
  {
   "cell_type": "code",
   "execution_count": null,
   "id": "48ccdcdc-4492-43af-97ef-6f6cc74d2c42",
   "metadata": {},
   "outputs": [],
   "source": [
    "plt.hist(distances.a, bins=20)\n",
    "plt.show()\n",
    "plt.savefig('histograma_distancias.png')"
   ]
  },
  {
   "cell_type": "code",
   "execution_count": null,
   "id": "c11da976-90f8-4dff-97c5-21dcc7bf3c69",
   "metadata": {},
   "outputs": [],
   "source": [
    "import numpy as np\n",
    "from graph_tool import Graph\n",
    "from graph_tool.topology import shortest_distance"
   ]
  },
  {
   "cell_type": "code",
   "execution_count": null,
   "id": "9b7d61c1-1f3e-4352-8797-2e7f8f64901d",
   "metadata": {},
   "outputs": [],
   "source": [
    "source_vertex = new_graph.vertex(0)\n",
    "distances = shortest_distance(g, source=source_vertex)\n",
    "mean_distance = np.mean(distances.a)\n",
    "std_deviation = np.std(distances.a)\n",
    "min_distance = np.min(distances.a)\n",
    "q25 = np.percentile(distances.a, 25)\n",
    "median = np.percentile(distances.a, 50)\n",
    "q75 = np.percentile(distances.a, 75)\n",
    "max_distance = np.max(distances.a)"
   ]
  }
 ],
 "metadata": {
  "kernelspec": {
   "display_name": "Python 3 (ipykernel)",
   "language": "python",
   "name": "python3"
  },
  "language_info": {
   "codemirror_mode": {
    "name": "ipython",
    "version": 3
   },
   "file_extension": ".py",
   "mimetype": "text/x-python",
   "name": "python",
   "nbconvert_exporter": "python",
   "pygments_lexer": "ipython3",
   "version": "3.11.5"
  }
 },
 "nbformat": 4,
 "nbformat_minor": 5
}
