{
 "cells": [
  {
   "cell_type": "code",
   "execution_count": 1,
   "id": "076c157c-a077-40ab-b0a3-4d73fe801586",
   "metadata": {
    "execution": {
     "iopub.execute_input": "2023-10-07T01:43:04.024889Z",
     "iopub.status.busy": "2023-10-07T01:43:04.024182Z",
     "iopub.status.idle": "2023-10-07T01:43:06.212807Z",
     "shell.execute_reply": "2023-10-07T01:43:06.211211Z",
     "shell.execute_reply.started": "2023-10-07T01:43:04.024829Z"
    }
   },
   "outputs": [],
   "source": [
    "import pandas as pd\n",
    "import numpy as np"
   ]
  },
  {
   "cell_type": "code",
   "execution_count": 2,
   "id": "97d883d9-7eae-46b7-989e-ab41ba3c372b",
   "metadata": {
    "execution": {
     "iopub.execute_input": "2023-10-07T01:43:06.214265Z",
     "iopub.status.busy": "2023-10-07T01:43:06.213972Z",
     "iopub.status.idle": "2023-10-07T01:43:06.218221Z",
     "shell.execute_reply": "2023-10-07T01:43:06.217216Z",
     "shell.execute_reply.started": "2023-10-07T01:43:06.214244Z"
    }
   },
   "outputs": [],
   "source": [
    "PATH1 = './archive/data-final-clean.csv'"
   ]
  },
  {
   "cell_type": "code",
   "execution_count": 3,
   "id": "fe621f2c-3a5f-404f-a6b3-2f104f0420f3",
   "metadata": {
    "execution": {
     "iopub.execute_input": "2023-10-07T01:43:06.267406Z",
     "iopub.status.busy": "2023-10-07T01:43:06.267124Z",
     "iopub.status.idle": "2023-10-07T01:43:14.394331Z",
     "shell.execute_reply": "2023-10-07T01:43:14.393151Z",
     "shell.execute_reply.started": "2023-10-07T01:43:06.267385Z"
    }
   },
   "outputs": [],
   "source": [
    "df1 = pd.read_csv(PATH1)"
   ]
  },
  {
   "cell_type": "code",
   "execution_count": 4,
   "id": "c76e8acc-e736-4a73-a4ab-4dba64fcac86",
   "metadata": {
    "execution": {
     "iopub.execute_input": "2023-10-07T01:43:14.396755Z",
     "iopub.status.busy": "2023-10-07T01:43:14.396528Z",
     "iopub.status.idle": "2023-10-07T01:44:13.972131Z",
     "shell.execute_reply": "2023-10-07T01:44:13.926753Z",
     "shell.execute_reply.started": "2023-10-07T01:43:14.396734Z"
    }
   },
   "outputs": [
    {
     "name": "stdout",
     "output_type": "stream",
     "text": [
      "        node_1  node_2\n",
      "0            0      96\n",
      "1            0     116\n",
      "2            0     573\n",
      "3            0     623\n",
      "4            0    1950\n",
      "...        ...     ...\n",
      "623683   10999     349\n",
      "623684   10999    3280\n",
      "623685   10999    4187\n",
      "623686   10999    4274\n",
      "623687   10999    9279\n",
      "\n",
      "[623688 rows x 2 columns]\n"
     ]
    }
   ],
   "source": [
    "sample_df = df1.sample(n=11000, random_state=42)\n",
    "est_columns = [col for col in sample_df.columns if col.startswith('EST')]\n",
    "csn_columns = [col for col in sample_df.columns if col.startswith('CSN')]\n",
    "est_responses_matrix = sample_df[est_columns].values\n",
    "csn_responses_matrix = sample_df[csn_columns].values\n",
    "min_agreement_percentage = 0.6\n",
    "est_similarity_matrix = (est_responses_matrix[:, np.newaxis, :] == est_responses_matrix).mean(axis=2)\n",
    "csn_similarity_matrix = (csn_responses_matrix[:, np.newaxis, :] == csn_responses_matrix).mean(axis=2)\n",
    "average_similarity_matrix = (est_similarity_matrix + csn_similarity_matrix) / 2\n",
    "np.fill_diagonal(average_similarity_matrix, 0)\n",
    "connections = np.argwhere(average_similarity_matrix >= min_agreement_percentage)\n",
    "connections_df = pd.DataFrame(connections, columns=['node_1', 'node_2'])\n",
    "print(connections_df)"
   ]
  },
  {
   "cell_type": "code",
   "execution_count": 5,
   "id": "214f5131-51d6-4966-8017-91550ff3cdd7",
   "metadata": {
    "execution": {
     "iopub.execute_input": "2023-10-07T01:44:14.573897Z",
     "iopub.status.busy": "2023-10-07T01:44:14.565886Z",
     "iopub.status.idle": "2023-10-07T01:44:16.958285Z",
     "shell.execute_reply": "2023-10-07T01:44:16.955430Z",
     "shell.execute_reply.started": "2023-10-07T01:44:14.573421Z"
    }
   },
   "outputs": [],
   "source": [
    "caminho_do_arquivo_csv = 'big_five_dataset.csv'\n",
    "connections_df.to_csv(caminho_do_arquivo_csv, index=False)"
   ]
  },
  {
   "cell_type": "code",
   "execution_count": 6,
   "id": "a2f33d1d-70a6-413c-9ffe-d21ef0c2c104",
   "metadata": {
    "execution": {
     "iopub.execute_input": "2023-10-07T01:44:17.024254Z",
     "iopub.status.busy": "2023-10-07T01:44:17.023230Z",
     "iopub.status.idle": "2023-10-07T01:44:48.575238Z",
     "shell.execute_reply": "2023-10-07T01:44:48.574296Z",
     "shell.execute_reply.started": "2023-10-07T01:44:17.024228Z"
    }
   },
   "outputs": [
    {
     "data": {
      "text/html": [
       "\n",
       "    <script src=\"/static/.hidden/netpixi.min.js\"></script>\n"
      ],
      "text/plain": [
       "<IPython.core.display.HTML object>"
      ]
     },
     "metadata": {},
     "output_type": "display_data"
    }
   ],
   "source": [
    "import graph_tool_extras as gte\n",
    "import netpixi\n",
    "from graph_tool import draw"
   ]
  },
  {
   "cell_type": "code",
   "execution_count": 7,
   "id": "ed3b4ec7-5cf0-4198-aa0f-4b5e2af44afc",
   "metadata": {
    "execution": {
     "iopub.execute_input": "2023-10-07T01:44:48.576661Z",
     "iopub.status.busy": "2023-10-07T01:44:48.576223Z",
     "iopub.status.idle": "2023-10-07T01:44:48.584090Z",
     "shell.execute_reply": "2023-10-07T01:44:48.582821Z",
     "shell.execute_reply.started": "2023-10-07T01:44:48.576641Z"
    }
   },
   "outputs": [],
   "source": [
    "PATH = './big_five_dataset.csv'"
   ]
  },
  {
   "cell_type": "code",
   "execution_count": 8,
   "id": "41e944aa-adf9-4739-94ec-bb178573f9b8",
   "metadata": {
    "execution": {
     "iopub.execute_input": "2023-10-07T01:44:48.624030Z",
     "iopub.status.busy": "2023-10-07T01:44:48.622418Z",
     "iopub.status.idle": "2023-10-07T01:44:48.705680Z",
     "shell.execute_reply": "2023-10-07T01:44:48.704250Z",
     "shell.execute_reply.started": "2023-10-07T01:44:48.623992Z"
    }
   },
   "outputs": [],
   "source": [
    "g = gte.Graph(directed=False)"
   ]
  },
  {
   "cell_type": "code",
   "execution_count": 9,
   "id": "1495c4dd-90a0-4075-8b98-98be023b640e",
   "metadata": {
    "execution": {
     "iopub.execute_input": "2023-10-07T01:44:48.724995Z",
     "iopub.status.busy": "2023-10-07T01:44:48.723774Z",
     "iopub.status.idle": "2023-10-07T01:44:48.768811Z",
     "shell.execute_reply": "2023-10-07T01:44:48.767698Z",
     "shell.execute_reply.started": "2023-10-07T01:44:48.724934Z"
    }
   },
   "outputs": [],
   "source": [
    "g = gte.Graph(directed=False)"
   ]
  },
  {
   "cell_type": "code",
   "execution_count": 10,
   "id": "e3eeff34-0f02-4dae-baf2-b83f1ea3e4aa",
   "metadata": {
    "execution": {
     "iopub.execute_input": "2023-10-07T01:44:48.784026Z",
     "iopub.status.busy": "2023-10-07T01:44:48.783735Z",
     "iopub.status.idle": "2023-10-07T01:44:48.849843Z",
     "shell.execute_reply": "2023-10-07T01:44:48.848515Z",
     "shell.execute_reply.started": "2023-10-07T01:44:48.784006Z"
    }
   },
   "outputs": [],
   "source": [
    "def get_or_add_vertex(g, id):\n",
    "    u = g.vertex_by_id(id)\n",
    "    if u is None:\n",
    "        u = g.add_vertex_by_id(id)\n",
    "    return u"
   ]
  },
  {
   "cell_type": "code",
   "execution_count": 11,
   "id": "c739bbe9-d021-47d8-8ffc-9d2459a33a4f",
   "metadata": {
    "execution": {
     "iopub.execute_input": "2023-10-07T01:44:48.873072Z",
     "iopub.status.busy": "2023-10-07T01:44:48.872296Z",
     "iopub.status.idle": "2023-10-07T01:44:49.056626Z",
     "shell.execute_reply": "2023-10-07T01:44:49.054839Z",
     "shell.execute_reply.started": "2023-10-07T01:44:48.873030Z"
    }
   },
   "outputs": [],
   "source": [
    "def get_or_add_edge(g, node1, node2):\n",
    "    e = g.edge_by_ids(node1, node2)\n",
    "    if e is None:\n",
    "        e = g.add_edge_by_ids(node1, node2)\n",
    "    return e"
   ]
  },
  {
   "cell_type": "code",
   "execution_count": 12,
   "id": "f2f89069-003c-4bd1-b950-06ec9b2da2e8",
   "metadata": {
    "execution": {
     "iopub.execute_input": "2023-10-07T01:44:49.953614Z",
     "iopub.status.busy": "2023-10-07T01:44:49.950508Z",
     "iopub.status.idle": "2023-10-07T01:45:07.774489Z",
     "shell.execute_reply": "2023-10-07T01:45:07.773424Z",
     "shell.execute_reply.started": "2023-10-07T01:44:49.953520Z"
    }
   },
   "outputs": [],
   "source": [
    "with open(PATH) as file:\n",
    "    next(file)\n",
    "    for line in file:\n",
    "        line = line.strip().split(',')\n",
    "        #Cria ou pega os vértices\n",
    "        get_or_add_vertex(g,line[0])\n",
    "        get_or_add_vertex(g,line[1])\n",
    "        #Cria ou pega as areatas\n",
    "        get_or_add_edge(g,line[0],line[1])"
   ]
  },
  {
   "cell_type": "code",
   "execution_count": 13,
   "id": "a0833a78-a417-4e2b-b0f6-678753512a39",
   "metadata": {
    "execution": {
     "iopub.execute_input": "2023-10-07T01:45:07.775821Z",
     "iopub.status.busy": "2023-10-07T01:45:07.775526Z",
     "iopub.status.idle": "2023-10-07T01:45:08.305107Z",
     "shell.execute_reply": "2023-10-07T01:45:08.304003Z",
     "shell.execute_reply.started": "2023-10-07T01:45:07.775800Z"
    }
   },
   "outputs": [],
   "source": [
    "g = gte.clean(g)"
   ]
  },
  {
   "cell_type": "code",
   "execution_count": 14,
   "id": "b26084d1-9278-4442-a0fc-1df7721bcea2",
   "metadata": {
    "execution": {
     "iopub.execute_input": "2023-10-07T01:45:08.306544Z",
     "iopub.status.busy": "2023-10-07T01:45:08.306254Z",
     "iopub.status.idle": "2023-10-07T01:45:32.150541Z",
     "shell.execute_reply": "2023-10-07T01:45:32.149219Z",
     "shell.execute_reply.started": "2023-10-07T01:45:08.306525Z"
    }
   },
   "outputs": [],
   "source": [
    "layout = draw.sfdp_layout(g)"
   ]
  },
  {
   "cell_type": "code",
   "execution_count": 15,
   "id": "2d2a9f6c-d463-4921-9af5-69fab089a15e",
   "metadata": {
    "execution": {
     "iopub.execute_input": "2023-10-07T01:45:32.207376Z",
     "iopub.status.busy": "2023-10-07T01:45:32.206038Z",
     "iopub.status.idle": "2023-10-07T01:45:32.626650Z",
     "shell.execute_reply": "2023-10-07T01:45:32.625371Z",
     "shell.execute_reply.started": "2023-10-07T01:45:32.207325Z"
    }
   },
   "outputs": [],
   "source": [
    "gte.move(g, layout)"
   ]
  },
  {
   "cell_type": "code",
   "execution_count": 16,
   "id": "4a6c576d-0f93-49da-aefd-8cbd37abe494",
   "metadata": {
    "execution": {
     "iopub.execute_input": "2023-10-07T01:45:32.629802Z",
     "iopub.status.busy": "2023-10-07T01:45:32.629499Z",
     "iopub.status.idle": "2023-10-07T01:45:53.955356Z",
     "shell.execute_reply": "2023-10-07T01:45:53.954343Z",
     "shell.execute_reply.started": "2023-10-07T01:45:32.629780Z"
    }
   },
   "outputs": [],
   "source": [
    "gte.save(g, 'big_five_agree.net.gz')"
   ]
  },
  {
   "cell_type": "code",
   "execution_count": 17,
   "id": "81a85d30-8a3a-494e-9b11-ba191e5e2c65",
   "metadata": {
    "execution": {
     "iopub.execute_input": "2023-10-07T01:45:53.956675Z",
     "iopub.status.busy": "2023-10-07T01:45:53.956405Z",
     "iopub.status.idle": "2023-10-07T01:45:53.978278Z",
     "shell.execute_reply": "2023-10-07T01:45:53.977267Z",
     "shell.execute_reply.started": "2023-10-07T01:45:53.956641Z"
    }
   },
   "outputs": [
    {
     "data": {
      "text/html": [
       "\n",
       "        <div id=\"Mz2HZXS9dZs6mZrQWeEFvU\"></div>\n",
       "        <script>netpixi.render('Mz2HZXS9dZs6mZrQWeEFvU', '/static/__shared__/aps3-redes-sociais/aps3-redes-sociais/aps3-redes-sociais/big_five_agree.net.gz', 1.7777777777777777, true, true, false, true);</script>\n",
       "    "
      ],
      "text/plain": [
       "<IPython.core.display.HTML object>"
      ]
     },
     "metadata": {},
     "output_type": "display_data"
    }
   ],
   "source": [
    "r = netpixi.render('big_five_agree.net.gz',infinite=True)"
   ]
  },
  {
   "cell_type": "code",
   "execution_count": 18,
   "id": "68128e7b-b602-4797-81b6-8581c35b7710",
   "metadata": {
    "execution": {
     "iopub.execute_input": "2023-10-07T01:45:53.979387Z",
     "iopub.status.busy": "2023-10-07T01:45:53.979153Z",
     "iopub.status.idle": "2023-10-07T01:45:53.999904Z",
     "shell.execute_reply": "2023-10-07T01:45:53.998181Z",
     "shell.execute_reply.started": "2023-10-07T01:45:53.979368Z"
    }
   },
   "outputs": [
    {
     "data": {
      "text/html": [
       "\n",
       "        <div id=\"dBiAsASeFuschscsu2ZSUZ\"></div>\n",
       "        <script>netpixi.call('dBiAsASeFuschscsu2ZSUZ', 'Mz2HZXS9dZs6mZrQWeEFvU', 'changeGraph', 'eyJ0eXBlIjogInNldHRpbmdzIiwgInByb3BzIjogeyJ2ZXJ0ZXgiOiB7InNpemUiOiA0LCAiYndpZHRoIjogMX19fQo=');</script>\n",
       "    "
      ],
      "text/plain": [
       "<IPython.core.display.HTML object>"
      ]
     },
     "metadata": {},
     "output_type": "display_data"
    }
   ],
   "source": [
    "r.vertex_default(size=4, bwidth=1)"
   ]
  },
  {
   "cell_type": "code",
   "execution_count": 19,
   "id": "8dbcdac6-185c-4df3-a402-0c7f85f49987",
   "metadata": {
    "execution": {
     "iopub.execute_input": "2023-10-07T01:45:54.004366Z",
     "iopub.status.busy": "2023-10-07T01:45:54.004061Z",
     "iopub.status.idle": "2023-10-07T01:45:54.015172Z",
     "shell.execute_reply": "2023-10-07T01:45:54.013985Z",
     "shell.execute_reply.started": "2023-10-07T01:45:54.004345Z"
    }
   },
   "outputs": [
    {
     "data": {
      "text/html": [
       "\n",
       "        <div id=\"Cm9z6Db2UYHEEbpzsVocbS\"></div>\n",
       "        <script>netpixi.call('Cm9z6Db2UYHEEbpzsVocbS', 'Mz2HZXS9dZs6mZrQWeEFvU', 'changeGraph', 'eyJ0eXBlIjogInNldHRpbmdzIiwgInByb3BzIjogeyJlZGdlIjogeyJ3aWR0aCI6IDF9fX0K');</script>\n",
       "    "
      ],
      "text/plain": [
       "<IPython.core.display.HTML object>"
      ]
     },
     "metadata": {},
     "output_type": "display_data"
    }
   ],
   "source": [
    "r.edge_default(width=1)"
   ]
  }
 ],
 "metadata": {
  "kernelspec": {
   "display_name": "Python 3 (ipykernel)",
   "language": "python",
   "name": "python3"
  },
  "language_info": {
   "codemirror_mode": {
    "name": "ipython",
    "version": 3
   },
   "file_extension": ".py",
   "mimetype": "text/x-python",
   "name": "python",
   "nbconvert_exporter": "python",
   "pygments_lexer": "ipython3",
   "version": "3.11.5"
  }
 },
 "nbformat": 4,
 "nbformat_minor": 5
}
